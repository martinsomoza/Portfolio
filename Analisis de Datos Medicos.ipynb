{
 "cells": [
  {
   "cell_type": "markdown",
   "metadata": {},
   "source": [
    "Importo las librerias necesarias"
   ]
  },
  {
   "cell_type": "code",
   "execution_count": 29,
   "metadata": {},
   "outputs": [],
   "source": [
    "import pandas as pd\n",
    "import seaborn as sns\n",
    "import matplotlib.pyplot as plt\n",
    "import numpy as np"
   ]
  },
  {
   "cell_type": "markdown",
   "metadata": {},
   "source": [
    "Creo un DataFrame a partir del archivo .csv"
   ]
  },
  {
   "cell_type": "code",
   "execution_count": 30,
   "metadata": {},
   "outputs": [
    {
     "data": {
      "text/html": [
       "<div>\n",
       "<style scoped>\n",
       "    .dataframe tbody tr th:only-of-type {\n",
       "        vertical-align: middle;\n",
       "    }\n",
       "\n",
       "    .dataframe tbody tr th {\n",
       "        vertical-align: top;\n",
       "    }\n",
       "\n",
       "    .dataframe thead th {\n",
       "        text-align: right;\n",
       "    }\n",
       "</style>\n",
       "<table border=\"1\" class=\"dataframe\">\n",
       "  <thead>\n",
       "    <tr style=\"text-align: right;\">\n",
       "      <th></th>\n",
       "      <th>id</th>\n",
       "      <th>age</th>\n",
       "      <th>sex</th>\n",
       "      <th>height</th>\n",
       "      <th>weight</th>\n",
       "      <th>ap_hi</th>\n",
       "      <th>ap_lo</th>\n",
       "      <th>cholesterol</th>\n",
       "      <th>gluc</th>\n",
       "      <th>smoke</th>\n",
       "      <th>alco</th>\n",
       "      <th>active</th>\n",
       "      <th>cardio</th>\n",
       "    </tr>\n",
       "  </thead>\n",
       "  <tbody>\n",
       "    <tr>\n",
       "      <th>0</th>\n",
       "      <td>0</td>\n",
       "      <td>18393</td>\n",
       "      <td>2</td>\n",
       "      <td>168</td>\n",
       "      <td>62.0</td>\n",
       "      <td>110</td>\n",
       "      <td>80</td>\n",
       "      <td>1</td>\n",
       "      <td>1</td>\n",
       "      <td>0</td>\n",
       "      <td>0</td>\n",
       "      <td>1</td>\n",
       "      <td>0</td>\n",
       "    </tr>\n",
       "    <tr>\n",
       "      <th>1</th>\n",
       "      <td>1</td>\n",
       "      <td>20228</td>\n",
       "      <td>1</td>\n",
       "      <td>156</td>\n",
       "      <td>85.0</td>\n",
       "      <td>140</td>\n",
       "      <td>90</td>\n",
       "      <td>3</td>\n",
       "      <td>1</td>\n",
       "      <td>0</td>\n",
       "      <td>0</td>\n",
       "      <td>1</td>\n",
       "      <td>1</td>\n",
       "    </tr>\n",
       "    <tr>\n",
       "      <th>2</th>\n",
       "      <td>2</td>\n",
       "      <td>18857</td>\n",
       "      <td>1</td>\n",
       "      <td>165</td>\n",
       "      <td>64.0</td>\n",
       "      <td>130</td>\n",
       "      <td>70</td>\n",
       "      <td>3</td>\n",
       "      <td>1</td>\n",
       "      <td>0</td>\n",
       "      <td>0</td>\n",
       "      <td>0</td>\n",
       "      <td>1</td>\n",
       "    </tr>\n",
       "    <tr>\n",
       "      <th>3</th>\n",
       "      <td>3</td>\n",
       "      <td>17623</td>\n",
       "      <td>2</td>\n",
       "      <td>169</td>\n",
       "      <td>82.0</td>\n",
       "      <td>150</td>\n",
       "      <td>100</td>\n",
       "      <td>1</td>\n",
       "      <td>1</td>\n",
       "      <td>0</td>\n",
       "      <td>0</td>\n",
       "      <td>1</td>\n",
       "      <td>1</td>\n",
       "    </tr>\n",
       "    <tr>\n",
       "      <th>4</th>\n",
       "      <td>4</td>\n",
       "      <td>17474</td>\n",
       "      <td>1</td>\n",
       "      <td>156</td>\n",
       "      <td>56.0</td>\n",
       "      <td>100</td>\n",
       "      <td>60</td>\n",
       "      <td>1</td>\n",
       "      <td>1</td>\n",
       "      <td>0</td>\n",
       "      <td>0</td>\n",
       "      <td>0</td>\n",
       "      <td>0</td>\n",
       "    </tr>\n",
       "  </tbody>\n",
       "</table>\n",
       "</div>"
      ],
      "text/plain": [
       "   id    age  sex  height  weight  ap_hi  ap_lo  cholesterol  gluc  smoke  \\\n",
       "0   0  18393    2     168    62.0    110     80            1     1      0   \n",
       "1   1  20228    1     156    85.0    140     90            3     1      0   \n",
       "2   2  18857    1     165    64.0    130     70            3     1      0   \n",
       "3   3  17623    2     169    82.0    150    100            1     1      0   \n",
       "4   4  17474    1     156    56.0    100     60            1     1      0   \n",
       "\n",
       "   alco  active  cardio  \n",
       "0     0       1       0  \n",
       "1     0       1       1  \n",
       "2     0       0       1  \n",
       "3     0       1       1  \n",
       "4     0       0       0  "
      ]
     },
     "execution_count": 30,
     "metadata": {},
     "output_type": "execute_result"
    }
   ],
   "source": [
    "df = pd.read_csv('C:/Users/Tino/Documents/Documentos/Data/freeCodeCamp Data Analytics with Python/medical_examination.csv')\n",
    "df.head()"
   ]
  },
  {
   "cell_type": "markdown",
   "metadata": {},
   "source": [
    "Defino la columna 'Sobrepeso' en base a si el indice de masa corporal (IMC=peso/(altura**2)) es mayor a 25"
   ]
  },
  {
   "cell_type": "code",
   "execution_count": 31,
   "metadata": {},
   "outputs": [
    {
     "data": {
      "text/html": [
       "<div>\n",
       "<style scoped>\n",
       "    .dataframe tbody tr th:only-of-type {\n",
       "        vertical-align: middle;\n",
       "    }\n",
       "\n",
       "    .dataframe tbody tr th {\n",
       "        vertical-align: top;\n",
       "    }\n",
       "\n",
       "    .dataframe thead th {\n",
       "        text-align: right;\n",
       "    }\n",
       "</style>\n",
       "<table border=\"1\" class=\"dataframe\">\n",
       "  <thead>\n",
       "    <tr style=\"text-align: right;\">\n",
       "      <th></th>\n",
       "      <th>id</th>\n",
       "      <th>age</th>\n",
       "      <th>sex</th>\n",
       "      <th>height</th>\n",
       "      <th>weight</th>\n",
       "      <th>ap_hi</th>\n",
       "      <th>ap_lo</th>\n",
       "      <th>cholesterol</th>\n",
       "      <th>gluc</th>\n",
       "      <th>smoke</th>\n",
       "      <th>alco</th>\n",
       "      <th>active</th>\n",
       "      <th>cardio</th>\n",
       "      <th>overweight</th>\n",
       "    </tr>\n",
       "  </thead>\n",
       "  <tbody>\n",
       "    <tr>\n",
       "      <th>0</th>\n",
       "      <td>0</td>\n",
       "      <td>18393</td>\n",
       "      <td>2</td>\n",
       "      <td>168</td>\n",
       "      <td>62.0</td>\n",
       "      <td>110</td>\n",
       "      <td>80</td>\n",
       "      <td>1</td>\n",
       "      <td>1</td>\n",
       "      <td>0</td>\n",
       "      <td>0</td>\n",
       "      <td>1</td>\n",
       "      <td>0</td>\n",
       "      <td>0</td>\n",
       "    </tr>\n",
       "    <tr>\n",
       "      <th>1</th>\n",
       "      <td>1</td>\n",
       "      <td>20228</td>\n",
       "      <td>1</td>\n",
       "      <td>156</td>\n",
       "      <td>85.0</td>\n",
       "      <td>140</td>\n",
       "      <td>90</td>\n",
       "      <td>3</td>\n",
       "      <td>1</td>\n",
       "      <td>0</td>\n",
       "      <td>0</td>\n",
       "      <td>1</td>\n",
       "      <td>1</td>\n",
       "      <td>1</td>\n",
       "    </tr>\n",
       "    <tr>\n",
       "      <th>2</th>\n",
       "      <td>2</td>\n",
       "      <td>18857</td>\n",
       "      <td>1</td>\n",
       "      <td>165</td>\n",
       "      <td>64.0</td>\n",
       "      <td>130</td>\n",
       "      <td>70</td>\n",
       "      <td>3</td>\n",
       "      <td>1</td>\n",
       "      <td>0</td>\n",
       "      <td>0</td>\n",
       "      <td>0</td>\n",
       "      <td>1</td>\n",
       "      <td>0</td>\n",
       "    </tr>\n",
       "    <tr>\n",
       "      <th>3</th>\n",
       "      <td>3</td>\n",
       "      <td>17623</td>\n",
       "      <td>2</td>\n",
       "      <td>169</td>\n",
       "      <td>82.0</td>\n",
       "      <td>150</td>\n",
       "      <td>100</td>\n",
       "      <td>1</td>\n",
       "      <td>1</td>\n",
       "      <td>0</td>\n",
       "      <td>0</td>\n",
       "      <td>1</td>\n",
       "      <td>1</td>\n",
       "      <td>1</td>\n",
       "    </tr>\n",
       "    <tr>\n",
       "      <th>4</th>\n",
       "      <td>4</td>\n",
       "      <td>17474</td>\n",
       "      <td>1</td>\n",
       "      <td>156</td>\n",
       "      <td>56.0</td>\n",
       "      <td>100</td>\n",
       "      <td>60</td>\n",
       "      <td>1</td>\n",
       "      <td>1</td>\n",
       "      <td>0</td>\n",
       "      <td>0</td>\n",
       "      <td>0</td>\n",
       "      <td>0</td>\n",
       "      <td>0</td>\n",
       "    </tr>\n",
       "  </tbody>\n",
       "</table>\n",
       "</div>"
      ],
      "text/plain": [
       "   id    age  sex  height  weight  ap_hi  ap_lo  cholesterol  gluc  smoke  \\\n",
       "0   0  18393    2     168    62.0    110     80            1     1      0   \n",
       "1   1  20228    1     156    85.0    140     90            3     1      0   \n",
       "2   2  18857    1     165    64.0    130     70            3     1      0   \n",
       "3   3  17623    2     169    82.0    150    100            1     1      0   \n",
       "4   4  17474    1     156    56.0    100     60            1     1      0   \n",
       "\n",
       "   alco  active  cardio  overweight  \n",
       "0     0       1       0           0  \n",
       "1     0       1       1           1  \n",
       "2     0       0       1           0  \n",
       "3     0       1       1           1  \n",
       "4     0       0       0           0  "
      ]
     },
     "execution_count": 31,
     "metadata": {},
     "output_type": "execute_result"
    }
   ],
   "source": [
    "df['overweight'] = np.where((df['weight']/(df['height']/100)**2)>25,1,0)\n",
    "df.head()"
   ]
  },
  {
   "cell_type": "markdown",
   "metadata": {},
   "source": [
    "Notar que los valores de Glucosa pueden ser normales (0), por encima de lo normal (1) y muy altos (2)"
   ]
  },
  {
   "cell_type": "code",
   "execution_count": 32,
   "metadata": {},
   "outputs": [
    {
     "data": {
      "text/plain": [
       "gluc\n",
       "1       59479\n",
       "3        5331\n",
       "2        5190\n",
       "Name: count, dtype: int64"
      ]
     },
     "execution_count": 32,
     "metadata": {},
     "output_type": "execute_result"
    }
   ],
   "source": [
    "df.value_counts(['gluc'])"
   ]
  },
  {
   "cell_type": "markdown",
   "metadata": {},
   "source": [
    "Lo mismo sucede para el Colesterol"
   ]
  },
  {
   "cell_type": "code",
   "execution_count": 33,
   "metadata": {},
   "outputs": [
    {
     "data": {
      "text/plain": [
       "cholesterol\n",
       "1              52385\n",
       "2               9549\n",
       "3               8066\n",
       "Name: count, dtype: int64"
      ]
     },
     "execution_count": 33,
     "metadata": {},
     "output_type": "execute_result"
    }
   ],
   "source": [
    "df.value_counts(['cholesterol'])"
   ]
  },
  {
   "cell_type": "markdown",
   "metadata": {},
   "source": [
    "Simplifico los valores de Glucosa y Colesterol de forma que los valores normales sean 0 y el resto 1 "
   ]
  },
  {
   "cell_type": "code",
   "execution_count": 34,
   "metadata": {},
   "outputs": [],
   "source": [
    "df['gluc'] = np.where(df['gluc'] == 1, 0, 1)\n",
    "df['cholesterol'] = np.where(df['cholesterol'] == 1, 0, 1)"
   ]
  },
  {
   "cell_type": "markdown",
   "metadata": {},
   "source": [
    "Formateo los datos para poder graficarlos en base a presencia/ausencia de condición cardíaca"
   ]
  },
  {
   "cell_type": "code",
   "execution_count": 35,
   "metadata": {},
   "outputs": [
    {
     "data": {
      "text/html": [
       "<div>\n",
       "<style scoped>\n",
       "    .dataframe tbody tr th:only-of-type {\n",
       "        vertical-align: middle;\n",
       "    }\n",
       "\n",
       "    .dataframe tbody tr th {\n",
       "        vertical-align: top;\n",
       "    }\n",
       "\n",
       "    .dataframe thead th {\n",
       "        text-align: right;\n",
       "    }\n",
       "</style>\n",
       "<table border=\"1\" class=\"dataframe\">\n",
       "  <thead>\n",
       "    <tr style=\"text-align: right;\">\n",
       "      <th></th>\n",
       "      <th>cardio</th>\n",
       "      <th>variable</th>\n",
       "      <th>value</th>\n",
       "    </tr>\n",
       "  </thead>\n",
       "  <tbody>\n",
       "    <tr>\n",
       "      <th>0</th>\n",
       "      <td>0</td>\n",
       "      <td>active</td>\n",
       "      <td>1</td>\n",
       "    </tr>\n",
       "    <tr>\n",
       "      <th>1</th>\n",
       "      <td>1</td>\n",
       "      <td>active</td>\n",
       "      <td>1</td>\n",
       "    </tr>\n",
       "    <tr>\n",
       "      <th>2</th>\n",
       "      <td>1</td>\n",
       "      <td>active</td>\n",
       "      <td>0</td>\n",
       "    </tr>\n",
       "    <tr>\n",
       "      <th>3</th>\n",
       "      <td>1</td>\n",
       "      <td>active</td>\n",
       "      <td>1</td>\n",
       "    </tr>\n",
       "    <tr>\n",
       "      <th>4</th>\n",
       "      <td>0</td>\n",
       "      <td>active</td>\n",
       "      <td>0</td>\n",
       "    </tr>\n",
       "  </tbody>\n",
       "</table>\n",
       "</div>"
      ],
      "text/plain": [
       "   cardio variable  value\n",
       "0       0   active      1\n",
       "1       1   active      1\n",
       "2       1   active      0\n",
       "3       1   active      1\n",
       "4       0   active      0"
      ]
     },
     "execution_count": 35,
     "metadata": {},
     "output_type": "execute_result"
    }
   ],
   "source": [
    "long_format = pd.melt(df, id_vars=['cardio'], value_vars=['active','alco','cholesterol','gluc','overweight','smoke'],\n",
    "                      var_name='variable', value_name='value')\n",
    "long_format.head()"
   ]
  },
  {
   "cell_type": "markdown",
   "metadata": {},
   "source": [
    "Grafico los resultados de forma de mostrar la frecuencia de condiciones cualitativas (actividad fisica, alcoholismo, colesterol, glucosa, sobrepeso, fumador) para quienes tienen o no alguna condición cardíaca."
   ]
  },
  {
   "cell_type": "code",
   "execution_count": 36,
   "metadata": {},
   "outputs": [
    {
     "data": {
      "image/png": "[encoded data removed]",
      "text/plain": [
       "<Figure size 1058.88x500 with 2 Axes>"
      ]
     },
     "metadata": {},
     "output_type": "display_data"
    }
   ],
   "source": [
    "g = sns.catplot(x='variable', hue='value', col='cardio', data=long_format, kind='count')\n",
    "g.set_axis_labels(\"variable\", \"total\")\n",
    "plt.show()"
   ]
  },
  {
   "cell_type": "markdown",
   "metadata": {},
   "source": [
    "Se puede ver a simple vista que la proporción de individuos con colesterol alto y sobrepeso aumenta en la subpoblación de pacientes con alguna condición cardíaca, implicando una relación entre las variables."
   ]
  },
  {
   "cell_type": "markdown",
   "metadata": {},
   "source": [
    "En vistas de realizar un heatmap de correlación entre variables, limpio las \"colas\" de las distribuciones de peso y altura para no distorsionar el análisis.\n",
    "\n",
    "Además, me aseguro que los datos de presión tengan sentido siendo la presión sistólica ('ap_hi') mayor a la diastólica ('ap_lo'). Filtro aquellos que no cumplan esa condición."
   ]
  },
  {
   "cell_type": "code",
   "execution_count": 37,
   "metadata": {},
   "outputs": [],
   "source": [
    "lower_bound = df['height'].quantile(0.025)\n",
    "upper_bound = df['height'].quantile(0.975)\n",
    "lower_bound2 = df['weight'].quantile(0.025)\n",
    "upper_bound2 = df['weight'].quantile(0.975)\n",
    "\n",
    "df_heat = df[\n",
    "    (df['ap_lo'] <= df['ap_hi']) &\n",
    "    (df['height'] >= lower_bound) &\n",
    "    (df['height'] <= upper_bound) &\n",
    "    (df['weight'] >= lower_bound2) &\n",
    "    (df['weight'] <= upper_bound2)\n",
    "    ]"
   ]
  },
  {
   "cell_type": "markdown",
   "metadata": {},
   "source": [
    "Utilizando el DataFrame \"curado\" realizo la matriz de correlación"
   ]
  },
  {
   "cell_type": "code",
   "execution_count": 38,
   "metadata": {},
   "outputs": [
    {
     "name": "stdout",
     "output_type": "stream",
     "text": [
      "                   id       age       sex    height    weight     ap_hi  \\\n",
      "id           1.000000  0.002507  0.003426  0.000326  0.000149  0.003492   \n",
      "age          0.002507  1.000000 -0.018132 -0.076932  0.070168  0.018689   \n",
      "sex          0.003426 -0.018132  1.000000  0.505785  0.129979  0.005063   \n",
      "height       0.000326 -0.076932  0.505785  1.000000  0.251503  0.004586   \n",
      "weight       0.000149  0.070168  0.129979  0.251503  1.000000  0.027030   \n",
      "ap_hi        0.003492  0.018689  0.005063  0.004586  0.027030  1.000000   \n",
      "ap_lo        0.000484  0.153508  0.059947  0.017922  0.227922  0.072803   \n",
      "cholesterol  0.003719  0.129996 -0.037605 -0.063522  0.135981  0.022807   \n",
      "gluc         0.002289  0.086990 -0.021357 -0.030469  0.107072  0.011111   \n",
      "smoke       -0.002732 -0.044371  0.337436  0.187830  0.056533 -0.001928   \n",
      "alco        -0.000708 -0.026970  0.168637  0.089785  0.059917  0.000769   \n",
      "active       0.005891 -0.011445  0.007864 -0.005661 -0.014430 -0.000222   \n",
      "cardio       0.003900  0.240241  0.002320 -0.024102  0.170042  0.050556   \n",
      "overweight  -0.000679  0.089573 -0.052930 -0.149570  0.655926  0.017327   \n",
      "\n",
      "                ap_lo  cholesterol      gluc     smoke      alco    active  \\\n",
      "id           0.000484     0.003719  0.002289 -0.002732 -0.000708  0.005891   \n",
      "age          0.153508     0.129996  0.086990 -0.044371 -0.026970 -0.011445   \n",
      "sex          0.059947    -0.037605 -0.021357  0.337436  0.168637  0.007864   \n",
      "height       0.017922    -0.063522 -0.030469  0.187830  0.089785 -0.005661   \n",
      "weight       0.227922     0.135981  0.107072  0.056533  0.059917 -0.014430   \n",
      "ap_hi        0.072803     0.022807  0.011111 -0.001928  0.000769 -0.000222   \n",
      "ap_lo        1.000000     0.150362  0.074840  0.023275  0.033042  0.001569   \n",
      "cholesterol  0.150362     1.000000  0.383743  0.012680  0.038446  0.002494   \n",
      "gluc         0.074840     0.383743  1.000000 -0.004157  0.014297 -0.010145   \n",
      "smoke        0.023275     0.012680 -0.004157  1.000000  0.341200  0.026940   \n",
      "alco         0.033042     0.038446  0.014297  0.341200  1.000000  0.025847   \n",
      "active       0.001569     0.002494 -0.010145  0.026940  0.025847  1.000000   \n",
      "cardio       0.327181     0.203467  0.088445 -0.020345 -0.011088 -0.037339   \n",
      "overweight   0.172212     0.127986  0.088109 -0.003274  0.025056 -0.003387   \n",
      "\n",
      "               cardio  overweight  \n",
      "id           0.003900   -0.000679  \n",
      "age          0.240241    0.089573  \n",
      "sex          0.002320   -0.052930  \n",
      "height      -0.024102   -0.149570  \n",
      "weight       0.170042    0.655926  \n",
      "ap_hi        0.050556    0.017327  \n",
      "ap_lo        0.327181    0.172212  \n",
      "cholesterol  0.203467    0.127986  \n",
      "gluc         0.088445    0.088109  \n",
      "smoke       -0.020345   -0.003274  \n",
      "alco        -0.011088    0.025056  \n",
      "active      -0.037339   -0.003387  \n",
      "cardio       1.000000    0.143168  \n",
      "overweight   0.143168    1.000000  \n"
     ]
    }
   ],
   "source": [
    "correlation_matrix = df_heat.corr()\n",
    "print(correlation_matrix)"
   ]
  },
  {
   "cell_type": "markdown",
   "metadata": {},
   "source": [
    "Grafico el heatmap, realizando enmascaramiento del lado especular derecho para no entorpecer la visualización"
   ]
  },
  {
   "cell_type": "code",
   "execution_count": 39,
   "metadata": {},
   "outputs": [
    {
     "data": {
      "image/png": "[encoded data removed]",
      "text/plain": [
       "<Figure size 1000x800 with 2 Axes>"
      ]
     },
     "metadata": {},
     "output_type": "display_data"
    }
   ],
   "source": [
    "plt.figure(figsize=(10, 8))\n",
    "mask = np.triu(np.ones_like(correlation_matrix, dtype=bool))\n",
    "sns.heatmap(correlation_matrix, fmt=\".1f\", mask=mask, annot=True, linecolor='white', robust=True,\n",
    "                linewidths='1', cmap='icefire', vmin=-0.095, vmax=0.24, center=0)\n",
    "plt.show()"
   ]
  },
  {
   "cell_type": "markdown",
   "metadata": {},
   "source": [
    "De esta manera podemos confirmar la correlación positiva entre la condición cardiológica y el colesterol y sobrepeso que habiamos observado previamente en el grafico de barras.\n",
    "\n",
    "Por otro lado, destacamos la correlación positiva la condición cardiológica y la edad, el peso, la presión diastólica, el colesterol y la glucosa (todas variables cuantitativas no analizadas en el gráfico anterior)."
   ]
  }
 ],
 "metadata": {
  "kernelspec": {
   "display_name": ".venv",
   "language": "python",
   "name": "python3"
  },
  "language_info": {
   "codemirror_mode": {
    "name": "ipython",
    "version": 3
   },
   "file_extension": ".py",
   "mimetype": "text/x-python",
   "name": "python",
   "nbconvert_exporter": "python",
   "pygments_lexer": "ipython3",
   "version": "3.11.9"
  }
 },
 "nbformat": 4,
 "nbformat_minor": 2
}
