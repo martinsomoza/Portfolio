{
 "cells": [
  {
   "cell_type": "markdown",
   "metadata": {},
   "source": [
    "Importo las librerias a utilizar"
   ]
  },
  {
   "cell_type": "code",
   "execution_count": 14,
   "metadata": {},
   "outputs": [],
   "source": [
    "import pandas as pd"
   ]
  },
  {
   "cell_type": "markdown",
   "metadata": {},
   "source": [
    "Creo un DataFrame a partir del archivo .csv que contiene la información demográfica del censo"
   ]
  },
  {
   "cell_type": "code",
   "execution_count": 15,
   "metadata": {},
   "outputs": [
    {
     "name": "stdout",
     "output_type": "stream",
     "text": [
      "   age         workclass  fnlwgt  education  education-num  \\\n",
      "0   39         State-gov   77516  Bachelors             13   \n",
      "1   50  Self-emp-not-inc   83311  Bachelors             13   \n",
      "2   38           Private  215646    HS-grad              9   \n",
      "3   53           Private  234721       11th              7   \n",
      "4   28           Private  338409  Bachelors             13   \n",
      "\n",
      "       marital-status         occupation   relationship   race     sex  \\\n",
      "0       Never-married       Adm-clerical  Not-in-family  White    Male   \n",
      "1  Married-civ-spouse    Exec-managerial        Husband  White    Male   \n",
      "2            Divorced  Handlers-cleaners  Not-in-family  White    Male   \n",
      "3  Married-civ-spouse  Handlers-cleaners        Husband  Black    Male   \n",
      "4  Married-civ-spouse     Prof-specialty           Wife  Black  Female   \n",
      "\n",
      "   capital-gain  capital-loss  hours-per-week native-country salary  \n",
      "0          2174             0              40  United-States  <=50K  \n",
      "1             0             0              13  United-States  <=50K  \n",
      "2             0             0              40  United-States  <=50K  \n",
      "3             0             0              40  United-States  <=50K  \n",
      "4             0             0              40           Cuba  <=50K  \n"
     ]
    }
   ],
   "source": [
    "df = pd.read_csv('adult.data.csv')\n",
    "print(df.head())"
   ]
  },
  {
   "cell_type": "markdown",
   "metadata": {},
   "source": [
    "Calculo la cantidad de personas de diferentes \"razas\""
   ]
  },
  {
   "cell_type": "code",
   "execution_count": 16,
   "metadata": {},
   "outputs": [
    {
     "name": "stdout",
     "output_type": "stream",
     "text": [
      "race\n",
      "White                 27816\n",
      "Black                  3124\n",
      "Asian-Pac-Islander     1039\n",
      "Amer-Indian-Eskimo      311\n",
      "Other                   271\n",
      "Name: count, dtype: int64\n"
     ]
    }
   ],
   "source": [
    "race_count = df['race'].value_counts()\n",
    "print(race_count)"
   ]
  },
  {
   "cell_type": "markdown",
   "metadata": {},
   "source": [
    "Calculo la edad media de los hombres"
   ]
  },
  {
   "cell_type": "code",
   "execution_count": 17,
   "metadata": {},
   "outputs": [
    {
     "name": "stdout",
     "output_type": "stream",
     "text": [
      "39.4\n"
     ]
    }
   ],
   "source": [
    "men_df = df[df['sex']=='Male']\n",
    "average_men = men_df['age'].mean().round(1)\n",
    "print(average_men)"
   ]
  },
  {
   "cell_type": "markdown",
   "metadata": {},
   "source": [
    "Calculo la fraccion de personas con titulo de 'Bachelors'"
   ]
  },
  {
   "cell_type": "code",
   "execution_count": 30,
   "metadata": {},
   "outputs": [
    {
     "name": "stdout",
     "output_type": "stream",
     "text": [
      "16.40%\n"
     ]
    }
   ],
   "source": [
    "total_people = len(df)\n",
    "bachelors_count = df['education'].str.contains('Bachelors', case=False, na=False).sum()\n",
    "percentage_bachelors = ((bachelors_count / total_people) * 100).round(1)\n",
    "print(f\"{percentage_bachelors:.2f}%\")"
   ]
  },
  {
   "cell_type": "markdown",
   "metadata": {},
   "source": [
    "Calculo la fraccion de personas con estudios avanzados ('Bachelors','Masters','Doctorate') que ganan más de 50K USD al año"
   ]
  },
  {
   "cell_type": "code",
   "execution_count": 31,
   "metadata": {},
   "outputs": [
    {
     "name": "stdout",
     "output_type": "stream",
     "text": [
      "46.50%\n"
     ]
    }
   ],
   "source": [
    "bachelors_count = df['education'].str.contains('Bachelors', case=False, na=False).sum()\n",
    "masters_count = df['education'].str.contains('Masters', case=False, na=False).sum()\n",
    "doctorate_count = df['education'].str.contains('Doctorate', case=False, na=False).sum()\n",
    "advanced_count = bachelors_count + masters_count + doctorate_count\n",
    "advanced_education = df[\n",
    "    (df['education']=='Bachelors') |\n",
    "    (df['education']== 'Masters') | \n",
    "    (df['education']== 'Doctorate')\n",
    "    ]\n",
    "morethan50advanced = advanced_education['salary'].str.contains('>50K', case=False, na=False).sum()\n",
    "percentage_advanced_more50 = ((morethan50advanced / advanced_count) * 100).round(1)\n",
    "print(f\"{percentage_advanced_more50:.2f}%\")"
   ]
  },
  {
   "cell_type": "markdown",
   "metadata": {},
   "source": [
    "Realizo el mismo análisis pero con personas sin estudios avanzados"
   ]
  },
  {
   "cell_type": "code",
   "execution_count": 32,
   "metadata": {},
   "outputs": [
    {
     "name": "stdout",
     "output_type": "stream",
     "text": [
      "17.40%\n"
     ]
    }
   ],
   "source": [
    "advanced_education_levels = ['Bachelors', 'Masters', 'Doctorate']\n",
    "not_advanced_education = df[~df['education'].isin(advanced_education_levels)]\n",
    "not_advanced_education_count = not_advanced_education.shape[0]\n",
    "morethan50notadvanced = not_advanced_education['salary'].str.contains('>50K', case=False, na=False).sum()\n",
    "percentage_notadvanced_more50 = ((morethan50notadvanced / not_advanced_education_count) * 100).round(1)\n",
    "print(f\"{percentage_notadvanced_more50:.2f}%\")"
   ]
  },
  {
   "cell_type": "markdown",
   "metadata": {},
   "source": [
    "Podemos ver entonces que hay una mayor proporción de personas con estudios avanzados con un salario alto comparado con aquellas personas que no los tienen."
   ]
  },
  {
   "cell_type": "markdown",
   "metadata": {},
   "source": [
    "Calculo cual es el mínimo de horas trabajadas a la semana"
   ]
  },
  {
   "cell_type": "code",
   "execution_count": 21,
   "metadata": {},
   "outputs": [
    {
     "name": "stdout",
     "output_type": "stream",
     "text": [
      "1\n"
     ]
    }
   ],
   "source": [
    "minimum_hoursweek = df['hours-per-week'].min()\n",
    "print(minimum_hoursweek)"
   ]
  },
  {
   "cell_type": "markdown",
   "metadata": {},
   "source": [
    "Calculo que fracción de personas que trabajan el mínimo de horas ganan más de 50K USD al año"
   ]
  },
  {
   "cell_type": "code",
   "execution_count": 33,
   "metadata": {},
   "outputs": [
    {
     "name": "stdout",
     "output_type": "stream",
     "text": [
      "10.00%\n"
     ]
    }
   ],
   "source": [
    "minimum_workers_count = df[df['hours-per-week']==1].shape[0]\n",
    "minimum_workers_more50_count = df[\n",
    "    (df['hours-per-week']==1) &\n",
    "    (df['salary']=='>50K')\n",
    "    ].shape[0]\n",
    "percentage_minimun_workers_more50 = (minimum_workers_more50_count / minimum_workers_count) * 100\n",
    "print(f\"{percentage_minimun_workers_more50:.2f}%\")"
   ]
  },
  {
   "cell_type": "markdown",
   "metadata": {},
   "source": [
    "Calculo cual es el país con mayor fraccion de personas que ganan más de 50K USD al año"
   ]
  },
  {
   "cell_type": "code",
   "execution_count": 23,
   "metadata": {},
   "outputs": [
    {
     "name": "stdout",
     "output_type": "stream",
     "text": [
      "native-country\n",
      "Iran    41.9\n",
      "dtype: float64\n"
     ]
    }
   ],
   "source": [
    "morethan50k = df[df['salary']=='>50K']\n",
    "total_count = df.groupby('native-country').size()\n",
    "morethan50k_count = morethan50k.groupby('native-country').size()\n",
    "percentage_high_earners_percountry = ((morethan50k_count / total_count) * 100).round(1)\n",
    "max_high_earners_global = percentage_high_earners_percountry.max()\n",
    "max_percentage_country = percentage_high_earners_percountry[percentage_high_earners_percountry == max_high_earners_global]\n",
    "print(max_percentage_country)"
   ]
  },
  {
   "cell_type": "markdown",
   "metadata": {},
   "source": [
    "Identifico cuál es el trabajo mas popular en la India donde ganan más de 50K USD al año"
   ]
  },
  {
   "cell_type": "code",
   "execution_count": 24,
   "metadata": {},
   "outputs": [
    {
     "name": "stdout",
     "output_type": "stream",
     "text": [
      "Prof-specialty\n"
     ]
    }
   ],
   "source": [
    "morethan50k_india = df[\n",
    "    (df['salary']=='>50K') &\n",
    "    (df['native-country']=='India')\n",
    "    ]\n",
    "ocupations_india_highearn = morethan50k_india.groupby('occupation').size()\n",
    "most_frequent_occupation = ocupations_india_highearn.idxmax()\n",
    "print(most_frequent_occupation)"
   ]
  }
 ],
 "metadata": {
  "kernelspec": {
   "display_name": ".venv",
   "language": "python",
   "name": "python3"
  },
  "language_info": {
   "codemirror_mode": {
    "name": "ipython",
    "version": 3
   },
   "file_extension": ".py",
   "mimetype": "text/x-python",
   "name": "python",
   "nbconvert_exporter": "python",
   "pygments_lexer": "ipython3",
   "version": "3.11.9"
  }
 },
 "nbformat": 4,
 "nbformat_minor": 2
}
